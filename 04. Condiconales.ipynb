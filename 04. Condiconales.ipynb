{
  "cells": [
    {
      "cell_type": "markdown",
      "metadata": {
        "id": "view-in-github",
        "colab_type": "text"
      },
      "source": [
        "<a href=\"https://colab.research.google.com/github/GTD2101-ACD-AA-EJ23/01-Python-basico-ricardo-qm/blob/main/04.%20Condiconales.ipynb\" target=\"_parent\"><img src=\"https://colab.research.google.com/assets/colab-badge.svg\" alt=\"Open In Colab\"/></a>"
      ]
    },
    {
      "cell_type": "markdown",
      "metadata": {
        "id": "QKV9ZYBVe8MN"
      },
      "source": [
        "# Condiciones y Estatutos Condicionales\n",
        "\n",
        "En este JNB se revisará el tema de Condiciones y Estatutos Condicionales"
      ]
    },
    {
      "cell_type": "markdown",
      "source": [
        "# Condiciones\n",
        "\n",
        "Permiten determinar el flujo de control de una aplicación dependiendo del valor de verdad de las mismas."
      ],
      "metadata": {
        "id": "1-IKf2D5faU0"
      }
    },
    {
      "cell_type": "code",
      "execution_count": 11,
      "metadata": {
        "id": "O8NoTzxjs2wK",
        "outputId": "7443795c-3f60-48ca-8025-969df69623b5",
        "colab": {
          "base_uri": "https://localhost:8080/"
        }
      },
      "outputs": [
        {
          "output_type": "stream",
          "name": "stdout",
          "text": [
            "False\n",
            "True\n"
          ]
        }
      ],
      "source": [
        "var_one = 1\n",
        "var_two = 2\n",
        "\n",
        "print(var_one < 1)\n",
        "print(var_two >= var_one)"
      ]
    },
    {
      "cell_type": "markdown",
      "source": [
        "# Estatutos condicionales.\n",
        "\n",
        "Estos estatutos son los que permiten cambiar el flujo de control en base a una cierta condición. Son los \"if\"."
      ],
      "metadata": {
        "id": "GkUULbTDgQGm"
      }
    },
    {
      "cell_type": "code",
      "source": [
        "def evaluate_temp(temp):\n",
        "    # Set an initial message\n",
        "    message = \"Normal temperature.\"\n",
        "    # Update value of message only if temperature greater than 38\n",
        "    if temp > 38:\n",
        "        message = \"Fever!\"\n",
        "    return message"
      ],
      "metadata": {
        "id": "FA5tdAgEgYlD"
      },
      "execution_count": 12,
      "outputs": []
    },
    {
      "cell_type": "code",
      "source": [
        "print(evaluate_temp(37))"
      ],
      "metadata": {
        "id": "X0a_MkYRi5pG",
        "outputId": "39d0a9ed-b31a-46e5-aeb0-a5b342bc7070",
        "colab": {
          "base_uri": "https://localhost:8080/"
        }
      },
      "execution_count": 13,
      "outputs": [
        {
          "output_type": "stream",
          "name": "stdout",
          "text": [
            "Normal temperature.\n"
          ]
        }
      ]
    },
    {
      "cell_type": "code",
      "source": [
        "print(evaluate_temp(39))"
      ],
      "metadata": {
        "id": "ndXYD_61jBtE",
        "outputId": "2c37d6b3-a535-48eb-c575-009ace3d0641",
        "colab": {
          "base_uri": "https://localhost:8080/"
        }
      },
      "execution_count": 14,
      "outputs": [
        {
          "output_type": "stream",
          "name": "stdout",
          "text": [
            "Fever!\n"
          ]
        }
      ]
    },
    {
      "cell_type": "markdown",
      "source": [
        "# if ... else\n",
        "\n",
        "Permite cambiar el flujo de control cuando no se cumple la primera condición."
      ],
      "metadata": {
        "id": "6sO3JF1Aj5g5"
      }
    },
    {
      "cell_type": "code",
      "source": [
        "def evaluate_temp_with_else(temp):\n",
        "    if temp > 38:\n",
        "        message = \"Fever!\"\n",
        "    else:\n",
        "        message = \"Normal temperature.\"\n",
        "    return message"
      ],
      "metadata": {
        "id": "WB_GZxc6j_fy"
      },
      "execution_count": 15,
      "outputs": []
    },
    {
      "cell_type": "code",
      "source": [
        "print(evaluate_temp_with_else(37))"
      ],
      "metadata": {
        "id": "lT5H-e57kZs1",
        "outputId": "e8d43811-9fd8-416d-8eaa-10b82c37ebe0",
        "colab": {
          "base_uri": "https://localhost:8080/"
        }
      },
      "execution_count": 16,
      "outputs": [
        {
          "output_type": "stream",
          "name": "stdout",
          "text": [
            "Normal temperature.\n"
          ]
        }
      ]
    },
    {
      "cell_type": "markdown",
      "source": [
        "#if ... elif ... else\n",
        "\n",
        "Permite definir múltiples condiciones para un if."
      ],
      "metadata": {
        "id": "cla-qXy5kzgx"
      }
    },
    {
      "cell_type": "code",
      "source": [
        "def evaluate_temp_with_elif(temp):\n",
        "    if temp > 38:\n",
        "        message = \"Fever!\"\n",
        "    elif temp > 35:\n",
        "        message = \"Normal temperature.\"\n",
        "    else:\n",
        "        message = \"Low temperature.\"\n",
        "    return message"
      ],
      "metadata": {
        "id": "PehWP6fsk408"
      },
      "execution_count": 17,
      "outputs": []
    },
    {
      "cell_type": "code",
      "source": [
        "evaluate_temp_with_elif(36)"
      ],
      "metadata": {
        "id": "97QmRaq6mVov",
        "outputId": "14818fc6-9037-401d-df37-07604b267adc",
        "colab": {
          "base_uri": "https://localhost:8080/",
          "height": 35
        }
      },
      "execution_count": 18,
      "outputs": [
        {
          "output_type": "execute_result",
          "data": {
            "text/plain": [
              "'Normal temperature.'"
            ],
            "application/vnd.google.colaboratory.intrinsic+json": {
              "type": "string"
            }
          },
          "metadata": {},
          "execution_count": 18
        }
      ]
    }
  ],
  "metadata": {
    "colab": {
      "provenance": [],
      "include_colab_link": true
    },
    "kernelspec": {
      "display_name": "Python 3.10.7 64-bit",
      "language": "python",
      "name": "python3"
    },
    "language_info": {
      "codemirror_mode": {
        "name": "ipython",
        "version": 3
      },
      "file_extension": ".py",
      "mimetype": "text/x-python",
      "name": "python",
      "nbconvert_exporter": "python",
      "pygments_lexer": "ipython3",
      "version": "3.10.7"
    },
    "orig_nbformat": 4,
    "vscode": {
      "interpreter": {
        "hash": "eb4a0ac80907d7f44e1a5e88d3d3381b33e3dbedd3a24d113e876f30a0c46bee"
      }
    }
  },
  "nbformat": 4,
  "nbformat_minor": 0
}